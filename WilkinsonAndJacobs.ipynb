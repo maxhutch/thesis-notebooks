{
 "cells": [
  {
   "cell_type": "markdown",
   "metadata": {},
   "source": [
    "# Figure 17, Plot of overall Froude number vs dimensionless amplitude"
   ]
  },
  {
   "cell_type": "markdown",
   "metadata": {},
   "source": [
    "Start by loading some boiler plate: matplotlib, numpy, scipy, json, functools, and a convenience class."
   ]
  },
  {
   "cell_type": "code",
   "execution_count": 1,
   "metadata": {
    "collapsed": false
   },
   "outputs": [],
   "source": [
    "%matplotlib inline\n",
    "import matplotlib\n",
    "matplotlib.rcParams['figure.figsize'] = (10.0, 8.0)\n",
    "import matplotlib.pyplot as plt\n",
    "import numpy as np\n",
    "from scipy.interpolate import InterpolatedUnivariateSpline\n",
    "from scipy.interpolate import UnivariateSpline\n",
    "import json\n",
    "import pandas as pd\n",
    "from functools import partial\n",
    "class Foo: pass"
   ]
  },
  {
   "cell_type": "markdown",
   "metadata": {},
   "source": [
    "And some more specialized dependencies:\n",
    " 1. ``Slict`` provides a convenient slice-able dictionary interface\n",
    " 2. ``Chest`` is an out-of-core dictionary that we'll hook directly to a globus remote using...\n",
    " 3. ``glopen`` is an open-like context manager for remote globus files"
   ]
  },
  {
   "cell_type": "code",
   "execution_count": 2,
   "metadata": {
    "collapsed": false
   },
   "outputs": [],
   "source": [
    "from chest import Chest\n",
    "from slict import CachedSlict\n",
    "from glopen import glopen, glopen_many"
   ]
  },
  {
   "cell_type": "markdown",
   "metadata": {},
   "source": [
    "Helper routines"
   ]
  },
  {
   "cell_type": "code",
   "execution_count": 3,
   "metadata": {
    "collapsed": false
   },
   "outputs": [],
   "source": [
    "def load_from_archive(names, arch):\n",
    "    cs = []\n",
    "    for name in names:\n",
    "        cs.append(Chest(path      = \"{:s}-results\".format(name),\n",
    "                        open      = partial(glopen,      endpoint=arch),\n",
    "                        open_many = partial(glopen_many, endpoint=arch)))\n",
    "    scs = [CachedSlict(c) for c in cs]\n",
    "\n",
    "    ps = []\n",
    "    for name in names:\n",
    "        with glopen(\n",
    "                    \"{:s}.json\".format(name), mode='r',\n",
    "                    endpoint = arch,\n",
    "                    ) as f:\n",
    "            ps.append(json.load(f))\n",
    "    return cs, scs, ps"
   ]
  },
  {
   "cell_type": "markdown",
   "metadata": {},
   "source": [
    "Configuration for this figure."
   ]
  },
  {
   "cell_type": "code",
   "execution_count": 4,
   "metadata": {
    "collapsed": false
   },
   "outputs": [],
   "source": [
    "config = Foo()\n",
    "config.names = [\n",
    "#    \"Wilk/Wilk_kmin_2.5/Wilk_kmin_2.5\", \n",
    "#    \"Wilk/Wilk_kmin_3.5/Wilk_kmin_3.5\",\n",
    "#    \"Wilk/Wilk_kmin_4.5/Wilk_kmin_4.5\",\n",
    "    \"Wilk/Wilk_long/Wilk_long\",\n",
    "]\n",
    "#config.arch_end = \"maxhutch#alpha-admin/~/pub/\"\n",
    "#config.arch_end = \"alcf#dtn_mira/projects/alpha-nek/experiments/\"\n",
    "config.arch_end = \"alcf#dtn_mira/projects/PetaCESAR/maxhutch/\"\n",
    "height = 'H_exp'"
   ]
  },
  {
   "cell_type": "markdown",
   "metadata": {},
   "source": [
    "Open a chest located on a remote globus endpoint and load a remote json configuration file."
   ]
  },
  {
   "cell_type": "code",
   "execution_count": 5,
   "metadata": {
    "collapsed": false
   },
   "outputs": [],
   "source": [
    "cs, scs, ps = load_from_archive(config.names, config.arch_end);"
   ]
  },
  {
   "cell_type": "markdown",
   "metadata": {},
   "source": [
    "We want to plot the spike depth, which is the 'H' field in the chest.\n",
    "Chests can prefetch lists of keys more quickly than individual ones, so we'll prefetch the keys we want."
   ]
  },
  {
   "cell_type": "code",
   "execution_count": 6,
   "metadata": {
    "collapsed": false
   },
   "outputs": [],
   "source": [
    "for c,sc in zip(cs, scs):\n",
    "    c.prefetch(sc[:,height].full_keys())"
   ]
  },
  {
   "cell_type": "markdown",
   "metadata": {},
   "source": [
    "Use a spline to compute the derivative of 'H' vs time: the Froude number."
   ]
  },
  {
   "cell_type": "code",
   "execution_count": 7,
   "metadata": {
    "collapsed": false
   },
   "outputs": [],
   "source": [
    "spls = []\n",
    "for sc, p in zip(scs, ps):\n",
    "    T = np.array(sc[:,height].keys())\n",
    "    H = np.array(sc[:,height].values()) #- 2 * np.sqrt(p['conductivity']* (T  + p['delta']**2 / p['conductivity'] / 4))\n",
    "    spls.append(UnivariateSpline(T,\n",
    "                                 H,\n",
    "                                 k = 5,\n",
    "                                 s = 1.e-12))\n",
    "Frs = [spl.derivative() for spl in spls]\n",
    "Tss = [np.linspace(sc[:,height].keys()[0], sc[:,height].keys()[-1], 1000) for sc in scs]"
   ]
  },
  {
   "cell_type": "code",
   "execution_count": 8,
   "metadata": {
    "collapsed": false
   },
   "outputs": [],
   "source": [
    "Run37 = pd.DataFrame.from_csv('WRun37 4.49.56 PM 7_3_07.txt', sep='\\t')\n",
    "Run58 = pd.DataFrame.from_csv('WRun058 4.32.52 PM 7_3_07.txt', sep='\\t')\n",
    "Run78 = pd.DataFrame.from_csv('WRun078 4.49.56 PM 7_3_07.txt', sep='\\t')\n",
    "\n",
    "def plot_exp(data, n, fmt):\n",
    "    norm = .5*(  np.sqrt(data[\"Atwood\"]/(1-data[\"Atwood\"])*data[\"Accel. [mm/sec^2]\"]* 76 / n) \n",
    "               + np.sqrt(data[\"Atwood\"]/(1+data[\"Atwood\"])*data[\"Accel. [mm/sec^2]\"]* 76 / n))\n",
    "    axs.plot(\n",
    "        data[\"AvgAmp (mm)\"] * n / 76, \n",
    "        data[\"Average Velocity\"]/norm, fmt);\n",
    "        #data[\"Froude Average\"], fmt);\n",
    "    return"
   ]
  },
  {
   "cell_type": "markdown",
   "metadata": {},
   "source": [
    "Plot the Froude number, non-dimensionalized by the theoretical dependence on Atwood, acceleration, and wave number, vs the spike depth, normalized by wave-length.\n",
    "\n",
    "The dotted line is the theoretical prediction of Goncharaov.  The solid black line is the farthest that Wilkinson and Jacobs were able to get."
   ]
  },
  {
   "cell_type": "code",
   "execution_count": 9,
   "metadata": {
    "collapsed": false
   },
   "outputs": [
    {
     "data": {
      "image/png": "[encoded data removed]",
      "text/plain": [
       "<matplotlib.figure.Figure at 0x2b1987a08550>"
      ]
     },
     "metadata": {},
     "output_type": "display_data"
    }
   ],
   "source": [
    "fig, axs = plt.subplots(1,1)\n",
    "\n",
    "for p, spl, Fr, T in zip(ps, spls, Frs, Tss):\n",
    "    axs.plot(\n",
    "        spl(T) * p[\"kmin\"], \n",
    "        Fr(T)/ np.sqrt(p[\"atwood\"]*p[\"g\"] / p[\"kmin\"]),\n",
    "        label=\"{:3.1f} modes\".format(p[\"kmin\"]));\n",
    "#axs.plot(Run37[\"AvgAmp (mm)\"] * 2.5 / 76, Run37[\"Froude Average\"], \"bx\");\n",
    "#plot_exp(Run37, 2.5, \"bx\")\n",
    "#plot_exp(Run78, 3.5, \"gx\")\n",
    "plot_exp(Run58, 4.5, \"bx\")\n",
    "axs.plot([0,10], [np.sqrt(1/np.pi), np.sqrt(1/np.pi)], 'k--')\n",
    "axs.axvline(x=1.4, color='k');\n",
    "axs.set_ylabel(r'Fr')\n",
    "axs.set_xlabel(r'$h/\\lambda$');\n",
    "axs.legend(loc=4);\n",
    "axs.set_xbound(0,3);\n",
    "axs.set_ybound(0,1.5);\n",
    "plt.savefig('Figure17_long.png')"
   ]
  },
  {
   "cell_type": "code",
   "execution_count": 10,
   "metadata": {
    "collapsed": false
   },
   "outputs": [
    {
     "data": {
      "image/png": "[encoded data removed]",
      "text/plain": [
       "<matplotlib.figure.Figure at 0x2b198cb1e908>"
      ]
     },
     "metadata": {},
     "output_type": "display_data"
    }
   ],
   "source": [
    "fig, axs = plt.subplots(1,1)\n",
    "\n",
    "for sc, p, spl, Fr, T in zip(scs, ps, spls, Frs, Tss):\n",
    "    axs.plot(\n",
    "        T,\n",
    "        spl(T) * p[\"kmin\"], \n",
    "        label=\"{:3.1f} modes\".format(p[\"kmin\"]));\n",
    "    axs.plot(\n",
    "        sc[:,height].keys(),\n",
    "        np.array(sc[:,height].values())*p['kmin'],\n",
    "        'bo');\n",
    "#axs.plot(Run37[\"Time (sec)\"]-.5, Run37[\"AvgAmp (mm)\"] * 2.5 / 76, \"bx\");\n",
    "axs.plot(Run58[\"Time (sec)\"]-.515, Run58[\"AvgAmp (mm)\"] * 4.5 / 78, \"bx\");\n",
    "#axs.plot(Run78[\"Time (sec)\"]-.5, Run78[\"AvgAmp (mm)\"] * 3.5 / 76, \"gx\");\n",
    "axs.set_ylabel(r'$h/\\lambda$')\n",
    "axs.set_xlabel(r'T (s)');\n",
    "axs.set_xbound(0.0,1.5);\n",
    "axs.set_ybound(-0.0,4);\n",
    "axs.legend(loc=4);"
   ]
  },
  {
   "cell_type": "code",
   "execution_count": 11,
   "metadata": {
    "collapsed": false
   },
   "outputs": [
    {
     "name": "stdout",
     "output_type": "stream",
     "text": [
      "Installed version_information.py. To use it, type:\n",
      "  %load_ext version_information\n"
     ]
    },
    {
     "data": {
      "application/json": {
       "Software versions": [
        {
         "module": "Python",
         "version": "3.4.3 64bit [GCC 4.4.7 20120313 (Red Hat 4.4.7-1)]"
        },
        {
         "module": "IPython",
         "version": "3.2.0"
        },
        {
         "module": "OS",
         "version": "Linux 3.16.0 4 amd64 x86_64 with debian 8.1"
        },
        {
         "module": "numpy",
         "version": "1.10.0.dev0+00f4fae"
        },
        {
         "module": "matplotlib",
         "version": "1.4.3"
        },
        {
         "module": "slict",
         "version": "0.2.5"
        },
        {
         "module": "chest",
         "version": "0.2.2"
        },
        {
         "module": "glopen",
         "version": "0.0.12"
        },
        {
         "module": "globussh",
         "version": "0.1.1"
        }
       ]
      },
      "text/html": [
       "<table><tr><th>Software</th><th>Version</th></tr><tr><td>Python</td><td>3.4.3 64bit [GCC 4.4.7 20120313 (Red Hat 4.4.7-1)]</td></tr><tr><td>IPython</td><td>3.2.0</td></tr><tr><td>OS</td><td>Linux 3.16.0 4 amd64 x86_64 with debian 8.1</td></tr><tr><td>numpy</td><td>1.10.0.dev0+00f4fae</td></tr><tr><td>matplotlib</td><td>1.4.3</td></tr><tr><td>slict</td><td>0.2.5</td></tr><tr><td>chest</td><td>0.2.2</td></tr><tr><td>glopen</td><td>0.0.12</td></tr><tr><td>globussh</td><td>0.1.1</td></tr><tr><td colspan='2'>Tue Aug 11 10:17:15 2015 CDT</td></tr></table>"
      ],
      "text/latex": [
       "\\begin{tabular}{|l|l|}\\hline\n",
       "{\\bf Software} & {\\bf Version} \\\\ \\hline\\hline\n",
       "Python & 3.4.3 64bit [GCC 4.4.7 20120313 (Red Hat 4.4.7-1)] \\\\ \\hline\n",
       "IPython & 3.2.0 \\\\ \\hline\n",
       "OS & Linux 3.16.0 4 amd64 x86\\_64 with debian 8.1 \\\\ \\hline\n",
       "numpy & 1.10.0.dev0+00f4fae \\\\ \\hline\n",
       "matplotlib & 1.4.3 \\\\ \\hline\n",
       "slict & 0.2.5 \\\\ \\hline\n",
       "chest & 0.2.2 \\\\ \\hline\n",
       "glopen & 0.0.12 \\\\ \\hline\n",
       "globussh & 0.1.1 \\\\ \\hline\n",
       "\\hline \\multicolumn{2}{|l|}{Tue Aug 11 10:17:15 2015 CDT} \\\\ \\hline\n",
       "\\end{tabular}\n"
      ],
      "text/plain": [
       "Software versions\n",
       "Python 3.4.3 64bit [GCC 4.4.7 20120313 (Red Hat 4.4.7-1)]\n",
       "IPython 3.2.0\n",
       "OS Linux 3.16.0 4 amd64 x86_64 with debian 8.1\n",
       "numpy 1.10.0.dev0+00f4fae\n",
       "matplotlib 1.4.3\n",
       "slict 0.2.5\n",
       "chest 0.2.2\n",
       "glopen 0.0.12\n",
       "globussh 0.1.1\n",
       "Tue Aug 11 10:17:15 2015 CDT"
      ]
     },
     "execution_count": 11,
     "metadata": {},
     "output_type": "execute_result"
    }
   ],
   "source": [
    "%install_ext http://raw.github.com/jrjohansson/version_information/master/version_information.py \n",
    "%load_ext version_information \n",
    "%version_information numpy, matplotlib, slict, chest, glopen, globussh"
   ]
  }
 ],
 "metadata": {
  "kernelspec": {
   "display_name": "Python 3",
   "language": "python",
   "name": "python3"
  },
  "language_info": {
   "codemirror_mode": {
    "name": "ipython",
    "version": 3
   },
   "file_extension": ".py",
   "mimetype": "text/x-python",
   "name": "python",
   "nbconvert_exporter": "python",
   "pygments_lexer": "ipython3",
   "version": "3.4.3"
  }
 },
 "nbformat": 4,
 "nbformat_minor": 0
}
