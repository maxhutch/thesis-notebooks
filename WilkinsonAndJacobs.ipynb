{
 "cells": [
  {
   "cell_type": "markdown",
   "metadata": {},
   "source": [
    "# Figure 17, Plot of overall Froude number vs dimensionless amplitude"
   ]
  },
  {
   "cell_type": "markdown",
   "metadata": {},
   "source": [
    "Start by loading some boiler plate: matplotlib, numpy, scipy, json, functools, and a convenience class."
   ]
  },
  {
   "cell_type": "code",
   "execution_count": 21,
   "metadata": {
    "collapsed": false
   },
   "outputs": [],
   "source": [
    "%matplotlib inline\n",
    "import matplotlib\n",
    "matplotlib.rcParams['figure.figsize'] = (10.0, 8.0)\n",
    "import matplotlib.pyplot as plt\n",
    "import numpy as np\n",
    "from scipy.interpolate import InterpolatedUnivariateSpline\n",
    "from scipy.interpolate import UnivariateSpline\n",
    "import json\n",
    "from functools import partial\n",
    "class Foo: pass"
   ]
  },
  {
   "cell_type": "markdown",
   "metadata": {},
   "source": [
    "And some more specialized dependencies:\n",
    " 1. ``Slict`` provides a convenient slice-able dictionary interface\n",
    " 2. ``Chest`` is an out-of-core dictionary that we'll hook directly to a globus remote using...\n",
    " 3. ``glopen`` is an open-like context manager for remote globus files"
   ]
  },
  {
   "cell_type": "code",
   "execution_count": 2,
   "metadata": {
    "collapsed": false
   },
   "outputs": [],
   "source": [
    "from chest import Chest\n",
    "from slict import CachedSlict\n",
    "from glopen import glopen, glopen_many"
   ]
  },
  {
   "cell_type": "markdown",
   "metadata": {},
   "source": [
    "Configuration for this figure."
   ]
  },
  {
   "cell_type": "code",
   "execution_count": 3,
   "metadata": {
    "collapsed": false
   },
   "outputs": [],
   "source": [
    "config = Foo()\n",
    "config.names = [\n",
    "    \"Wilk/Wilk_kmin_2.5/Wilk_kmin_2.5\", \n",
    "    \"Wilk/Wilk_kmin_3.5/Wilk_kmin_3.5\",\n",
    "    \"Wilk/Wilk_kmin_4.5/Wilk_kmin_4.5\"]\n",
    "#config.arch_end = \"maxhutch#alpha-admin/~/pub/\"\n",
    "config.arch_end = \"alcf#dtn_mira/projects/alpha-nek/\""
   ]
  },
  {
   "cell_type": "markdown",
   "metadata": {},
   "source": [
    "Open a chest located on a remote globus endpoint and load a remote json configuration file."
   ]
  },
  {
   "cell_type": "code",
   "execution_count": 4,
   "metadata": {
    "collapsed": false
   },
   "outputs": [],
   "source": [
    "cs = []\n",
    "for name in config.names:\n",
    "    cs.append(Chest(path      = \"{:s}-results\".format(name),\n",
    "                open      = partial(glopen,      endpoint=config.arch_end),\n",
    "                open_many = partial(glopen_many, endpoint=config.arch_end))\n",
    "              )\n",
    "scs = [CachedSlict(c) for c in cs]\n",
    "\n",
    "ps = []\n",
    "for name in config.names:\n",
    "    with glopen(\n",
    "                \"{:s}.json\".format(name), mode='r',\n",
    "                endpoint = config.arch_end,\n",
    "                ) as f:\n",
    "        ps.append(json.load(f))"
   ]
  },
  {
   "cell_type": "markdown",
   "metadata": {},
   "source": [
    "We want to plot the spike depth, which is the 'H' field in the chest.\n",
    "Chests can prefetch lists of keys more quickly than individual ones, so we'll prefetch the keys we want."
   ]
  },
  {
   "cell_type": "code",
   "execution_count": 5,
   "metadata": {
    "collapsed": false
   },
   "outputs": [],
   "source": [
    "for c,sc in zip(cs, scs):\n",
    "    c.prefetch(sc[:,'H'].full_keys())"
   ]
  },
  {
   "cell_type": "markdown",
   "metadata": {},
   "source": [
    "Use a spline to compute the derivative of 'H' vs time: the Froude number."
   ]
  },
  {
   "cell_type": "code",
   "execution_count": 39,
   "metadata": {
    "collapsed": false
   },
   "outputs": [],
   "source": [
    "spls = []\n",
    "for sc in scs:\n",
    "    spls.append(UnivariateSpline(sc[:,'H'].keys(),\n",
    "                                 sc[:,'H'].values(),\n",
    "                                 k = 5,\n",
    "                                 s = 0.00001))\n",
    "#    spls.append(InterpolatedUnivariateSpline(sc[:,'H'].keys(),\n",
    "#                                             sc[:,'H'].values(),\n",
    "#                                             k=5))\n",
    "Frs = [spl.derivative() for spl in spls]\n",
    "Tss = [np.linspace(sc[:,'H'].keys()[0], sc[:,'H'].keys()[-1], 1000) for sc in scs]"
   ]
  },
  {
   "cell_type": "markdown",
   "metadata": {},
   "source": [
    "Plot the Froude number, non-dimensionalized by the theoretical dependence on Atwood, acceleration, and wave number, vs the spike depth, normalized by wave-length.\n",
    "\n",
    "The dotted line is the theoretical prediction of Goncharaov.  The solid black line is the farthest that Wilkinson and Jacobs were able to get."
   ]
  },
  {
   "cell_type": "code",
   "execution_count": 40,
   "metadata": {
    "collapsed": false
   },
   "outputs": [
    {
     "data": {
      "image/png": "[encoded data removed]",
      "text/plain": [
       "<matplotlib.figure.Figure at 0x2b5fdcce4e10>"
      ]
     },
     "metadata": {},
     "output_type": "display_data"
    }
   ],
   "source": [
    "fig, axs = plt.subplots(1,1)\n",
    "\n",
    "for p, spl, Fr, T in zip(ps, spls, Frs, Tss):\n",
    "    axs.plot(\n",
    "        -spl(T) * p[\"kmin\"], \n",
    "        -Fr(T)/ np.sqrt(p[\"atwood\"]*p[\"g\"] / p[\"kmin\"]),\n",
    "        label=\"kmin={:f}\".format(p[\"kmin\"]));\n",
    "axs.plot([0,3], [np.sqrt(1/np.pi), np.sqrt(1/np.pi)], 'k--')\n",
    "axs.axvline(x=1.4, color='k');\n",
    "axs.set_ylabel('Fr')\n",
    "axs.set_xlabel('h/\\lambda');\n",
    "axs.legend(loc=4);\n",
    "plt.savefig('Figure1.eps')"
   ]
  },
  {
   "cell_type": "code",
   "execution_count": 8,
   "metadata": {
    "collapsed": false
   },
   "outputs": [
    {
     "name": "stdout",
     "output_type": "stream",
     "text": [
      "Installed version_information.py. To use it, type:\n",
      "  %load_ext version_information\n"
     ]
    },
    {
     "data": {
      "application/json": {
       "Software versions": [
        {
         "module": "Python",
         "version": "3.4.3 64bit [GCC 4.4.7 20120313 (Red Hat 4.4.7-1)]"
        },
        {
         "module": "IPython",
         "version": "3.0.0"
        },
        {
         "module": "OS",
         "version": "Linux 3.2.0 4 amd64 x86_64 with debian 7.8"
        },
        {
         "module": "numpy",
         "version": "1.9.2"
        },
        {
         "module": "matplotlib",
         "version": "1.4.3"
        },
        {
         "module": "slict",
         "version": "0.2.5"
        },
        {
         "module": "chest",
         "version": "0.2.1"
        },
        {
         "module": "glopen",
         "version": "0.0.11"
        },
        {
         "module": "globussh",
         "version": "0.1.0"
        }
       ]
      },
      "text/html": [
       "<table><tr><th>Software</th><th>Version</th></tr><tr><td>Python</td><td>3.4.3 64bit [GCC 4.4.7 20120313 (Red Hat 4.4.7-1)]</td></tr><tr><td>IPython</td><td>3.0.0</td></tr><tr><td>OS</td><td>Linux 3.2.0 4 amd64 x86_64 with debian 7.8</td></tr><tr><td>numpy</td><td>1.9.2</td></tr><tr><td>matplotlib</td><td>1.4.3</td></tr><tr><td>slict</td><td>0.2.5</td></tr><tr><td>chest</td><td>0.2.1</td></tr><tr><td>glopen</td><td>0.0.11</td></tr><tr><td>globussh</td><td>0.1.0</td></tr><tr><td colspan='2'>Tue Jun 30 06:33:05 2015 CDT</td></tr></table>"
      ],
      "text/latex": [
       "\\begin{tabular}{|l|l|}\\hline\n",
       "{\\bf Software} & {\\bf Version} \\\\ \\hline\\hline\n",
       "Python & 3.4.3 64bit [GCC 4.4.7 20120313 (Red Hat 4.4.7-1)] \\\\ \\hline\n",
       "IPython & 3.0.0 \\\\ \\hline\n",
       "OS & Linux 3.2.0 4 amd64 x86\\_64 with debian 7.8 \\\\ \\hline\n",
       "numpy & 1.9.2 \\\\ \\hline\n",
       "matplotlib & 1.4.3 \\\\ \\hline\n",
       "slict & 0.2.5 \\\\ \\hline\n",
       "chest & 0.2.1 \\\\ \\hline\n",
       "glopen & 0.0.11 \\\\ \\hline\n",
       "globussh & 0.1.0 \\\\ \\hline\n",
       "\\hline \\multicolumn{2}{|l|}{Tue Jun 30 06:33:05 2015 CDT} \\\\ \\hline\n",
       "\\end{tabular}\n"
      ],
      "text/plain": [
       "Software versions\n",
       "Python 3.4.3 64bit [GCC 4.4.7 20120313 (Red Hat 4.4.7-1)]\n",
       "IPython 3.0.0\n",
       "OS Linux 3.2.0 4 amd64 x86_64 with debian 7.8\n",
       "numpy 1.9.2\n",
       "matplotlib 1.4.3\n",
       "slict 0.2.5\n",
       "chest 0.2.1\n",
       "glopen 0.0.11\n",
       "globussh 0.1.0\n",
       "Tue Jun 30 06:33:05 2015 CDT"
      ]
     },
     "execution_count": 8,
     "metadata": {},
     "output_type": "execute_result"
    }
   ],
   "source": [
    "%install_ext http://raw.github.com/jrjohansson/version_information/master/version_information.py \n",
    "%load_ext version_information \n",
    "%version_information numpy, matplotlib, slict, chest, glopen, globussh"
   ]
  }
 ],
 "metadata": {
  "kernelspec": {
   "display_name": "Python 3",
   "language": "python",
   "name": "python3"
  },
  "language_info": {
   "codemirror_mode": {
    "name": "ipython",
    "version": 3
   },
   "file_extension": ".py",
   "mimetype": "text/x-python",
   "name": "python",
   "nbconvert_exporter": "python",
   "pygments_lexer": "ipython3",
   "version": "3.4.3"
  }
 },
 "nbformat": 4,
 "nbformat_minor": 0
}
