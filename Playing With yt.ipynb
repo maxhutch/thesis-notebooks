{
 "cells": [
  {
   "cell_type": "markdown",
   "metadata": {},
   "source": [
    "# Figure 1"
   ]
  },
  {
   "cell_type": "markdown",
   "metadata": {},
   "source": [
    "Start by loading some boiler plate: matplotlib, numpy, scipy, json, functools, and a convenience class."
   ]
  },
  {
   "cell_type": "code",
   "execution_count": 2,
   "metadata": {
    "collapsed": false
   },
   "outputs": [],
   "source": [
    "%matplotlib inline\n",
    "import matplotlib\n",
    "matplotlib.rcParams['figure.figsize'] = (10.0, 16.0)\n",
    "import matplotlib.pyplot as plt\n",
    "import numpy as np\n",
    "from scipy.interpolate import interp1d, InterpolatedUnivariateSpline\n",
    "from scipy.optimize import bisect\n",
    "import json\n",
    "from functools import partial\n",
    "class Foo: pass"
   ]
  },
  {
   "cell_type": "markdown",
   "metadata": {},
   "source": [
    "And some more specialized dependencies:\n",
    " 1. ``Slict`` provides a convenient slice-able dictionary interface\n",
    " 2. ``Chest`` is an out-of-core dictionary that we'll hook directly to a globus remote using...\n",
    " 3. ``glopen`` is an open-like context manager for remote globus files"
   ]
  },
  {
   "cell_type": "code",
   "execution_count": 3,
   "metadata": {
    "collapsed": false
   },
   "outputs": [],
   "source": [
    "from chest import Chest\n",
    "from slict import CachedSlict\n",
    "from glopen import glopen, glopen_many"
   ]
  },
  {
   "cell_type": "markdown",
   "metadata": {},
   "source": [
    "Configuration for this figure."
   ]
  },
  {
   "cell_type": "code",
   "execution_count": 3,
   "metadata": {
    "collapsed": false
   },
   "outputs": [],
   "source": [
    "config = Foo()\n",
    "config.name     = \"HighAspect/HA_visc/HA_visc\"\n",
    "#config.arch_end = \"alcf#dtn_mira/projects/alpha-nek\"\n",
    "config.arch_end = \"maxhutch#alpha-admin/pub/\"\n",
    "config.frame = 1\n",
    "config.lower = .25\n",
    "config.upper = .75"
   ]
  },
  {
   "cell_type": "markdown",
   "metadata": {},
   "source": [
    "Open a chest located on a remote globus endpoint and load a remote json configuration file."
   ]
  },
  {
   "cell_type": "code",
   "execution_count": 4,
   "metadata": {
    "collapsed": false
   },
   "outputs": [],
   "source": [
    "c = Chest(path      = \"{:s}-results\".format(config.name),\n",
    "          open      = partial(glopen,      endpoint=config.arch_end),\n",
    "          open_many = partial(glopen_many, endpoint=config.arch_end))\n",
    "sc = CachedSlict(c)\n",
    "with glopen(\n",
    "            \"{:s}.json\".format(config.name), mode='r',\n",
    "            endpoint = config.arch_end,\n",
    "            ) as f:\n",
    "    params = json.load(f)"
   ]
  },
  {
   "cell_type": "markdown",
   "metadata": {},
   "source": [
    "We want to grab all the data for the selected frame."
   ]
  },
  {
   "cell_type": "code",
   "execution_count": 5,
   "metadata": {
    "collapsed": false
   },
   "outputs": [],
   "source": [
    "T = sc[:,'H'].keys()[config.frame]\n",
    "frame = sc[T,:]\n",
    "c.prefetch(frame.full_keys())"
   ]
  },
  {
   "cell_type": "code",
   "execution_count": 4,
   "metadata": {
    "collapsed": false,
    "scrolled": true
   },
   "outputs": [
    {
     "ename": "NameError",
     "evalue": "name 'frame' is not defined",
     "output_type": "error",
     "traceback": [
      "\u001b[1;31m---------------------------------------------------------------------------\u001b[0m",
      "\u001b[1;31mNameError\u001b[0m                                 Traceback (most recent call last)",
      "\u001b[1;32m<ipython-input-4-75d0baf2092d>\u001b[0m in \u001b[0;36m<module>\u001b[1;34m()\u001b[0m\n\u001b[0;32m      1\u001b[0m \u001b[1;32mimport\u001b[0m \u001b[0myt\u001b[0m\u001b[1;33m\u001b[0m\u001b[0m\n\u001b[0;32m      2\u001b[0m \u001b[1;31m#test = frame['t_yz'] + 1.\u001b[0m\u001b[1;33m\u001b[0m\u001b[1;33m\u001b[0m\u001b[0m\n\u001b[1;32m----> 3\u001b[1;33m \u001b[0mtest\u001b[0m \u001b[1;33m=\u001b[0m \u001b[0mnp\u001b[0m\u001b[1;33m.\u001b[0m\u001b[0mtile\u001b[0m\u001b[1;33m(\u001b[0m\u001b[0mframe\u001b[0m\u001b[1;33m[\u001b[0m\u001b[1;34m't_yz'\u001b[0m\u001b[1;33m]\u001b[0m\u001b[1;33m.\u001b[0m\u001b[0mtranspose\u001b[0m\u001b[1;33m(\u001b[0m\u001b[1;33m)\u001b[0m\u001b[1;33m,\u001b[0m\u001b[1;33m(\u001b[0m\u001b[1;36m1\u001b[0m\u001b[1;33m,\u001b[0m\u001b[1;36m1\u001b[0m\u001b[1;33m,\u001b[0m\u001b[1;36m1\u001b[0m\u001b[1;33m)\u001b[0m\u001b[1;33m)\u001b[0m\u001b[1;33m.\u001b[0m\u001b[0mtranspose\u001b[0m\u001b[1;33m(\u001b[0m\u001b[1;33m)\u001b[0m \u001b[1;33m+\u001b[0m \u001b[1;36m1.\u001b[0m\u001b[1;33m\u001b[0m\u001b[0m\n\u001b[0m\u001b[0;32m      4\u001b[0m data = dict(\n\u001b[0;32m      5\u001b[0m     \u001b[0mdensity\u001b[0m \u001b[1;33m=\u001b[0m \u001b[1;33m(\u001b[0m\u001b[0mtest\u001b[0m\u001b[1;33m,\u001b[0m \u001b[1;34m\"g/cm**3\"\u001b[0m\u001b[1;33m)\u001b[0m\u001b[1;33m\u001b[0m\u001b[0m\n",
      "\u001b[1;31mNameError\u001b[0m: name 'frame' is not defined"
     ]
    }
   ],
   "source": [
    "import yt\n",
    "#test = frame['t_yz'] + 1.\n",
    "test = np.tile(frame['t_yz'].transpose(),(1,1,1)).transpose() + 1.\n",
    "data = dict(\n",
    "    density = (test, \"g/cm**3\")\n",
    ")\n",
    "bbox = np.array([[params['root_mesh'][1], params['extent_mesh'][1]],\n",
    "                 [params['root_mesh'][2], params['extent_mesh'][2]],\n",
    "                 [0., 1.]])\n",
    "#bbox = np.array([[params['root_mesh'][1], params['extent_mesh'][1]],\n",
    "#                 [params['root_mesh'][2], params['extent_mesh'][2]]])\n",
    "ds = yt.load_uniform_grid(data, test.shape, bbox=bbox, periodicity=(False,True,False), length_unit=\"m\")\n",
    "\n",
    "slc = yt.SlicePlot(ds, \"z\", \"density\",\n",
    "                   width=(1,16))\n",
    "slc.set_buff_size((14336,448))\n",
    "#slc.pan((.25,7))\n",
    "slc.show()"
   ]
  },
  {
   "cell_type": "code",
   "execution_count": null,
   "metadata": {
    "collapsed": false,
    "scrolled": false
   },
   "outputs": [],
   "source": [
    "sl = ds.slice(\"z\", 0).to_frb((1., 'm'), (128,128), height=(32.,'m'))\n",
    "plt.imshow(sl['density'].d)\n",
    "plt.show()"
   ]
  },
  {
   "cell_type": "code",
   "execution_count": null,
   "metadata": {
    "collapsed": false
   },
   "outputs": [],
   "source": [
    "plt.figure()\n",
    "plt.imshow(test[:,7000:7500,0].transpose())\n",
    "plt.show()"
   ]
  }
 ],
 "metadata": {
  "kernelspec": {
   "display_name": "Python 3",
   "language": "python",
   "name": "python3"
  },
  "language_info": {
   "codemirror_mode": {
    "name": "ipython",
    "version": 3
   },
   "file_extension": ".py",
   "mimetype": "text/x-python",
   "name": "python",
   "nbconvert_exporter": "python",
   "pygments_lexer": "ipython3",
   "version": "3.4.3"
  }
 },
 "nbformat": 4,
 "nbformat_minor": 0
}
